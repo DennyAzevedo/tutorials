{
 "cells": [
  {
   "cell_type": "code",
   "execution_count": 1,
   "metadata": {},
   "outputs": [
    {
     "data": {
      "text/plain": [
       "ImageJ is ready to go."
      ]
     },
     "execution_count": 1,
     "metadata": {},
     "output_type": "execute_result"
    }
   ],
   "source": [
    "#@ImageJ ij\n",
    "\n",
    "// Behind a firewall? Configure your proxy settings here.\n",
    "//System.setProperty(\"http.proxyHost\",\"myproxy.domain\")\n",
    "//System.setProperty(\"http.proxyPort\",\"8080\")\n",
    "\n",
    "\"ImageJ is ready to go.\""
   ]
  },
  {
   "cell_type": "markdown",
   "metadata": {},
   "source": [
    "Let's write some `Converters` from `String` to `Dataset` and vice versa. They are registered with the `PluginService` manually."
   ]
  },
  {
   "cell_type": "code",
   "execution_count": 2,
   "metadata": {},
   "outputs": [
    {
     "data": {
      "text/html": [
       "priority=10000&#8203;.0, enabled=true, pluginType=Converter"
      ]
     },
     "execution_count": 2,
     "metadata": {},
     "output_type": "execute_result"
    }
   ],
   "source": [
    "import net.imagej.Dataset;\n",
    "import net.imagej.DatasetService;\n",
    "import net.imagej.axis.Axes;\n",
    "import net.imagej.axis.AxisType;\n",
    "import net.imglib2.type.numeric.real.DoubleType;\n",
    "\n",
    "import org.scijava.Priority;\n",
    "import org.scijava.convert.AbstractConverter;\n",
    "import org.scijava.convert.Converter;\n",
    "import org.scijava.plugin.Parameter;\n",
    "import org.scijava.plugin.Plugin;\n",
    "import org.scijava.plugin.PluginInfo\n",
    "\n",
    "@Plugin(type = Converter.class, priority = Priority.VERY_HIGH_PRIORITY)\n",
    "public class Narf2 extends AbstractConverter<String, Dataset> {\n",
    "\n",
    "    @Parameter\n",
    "    DatasetService datasetService;\n",
    "\n",
    "    @SuppressWarnings(\"unchecked\")\n",
    "    @Override\n",
    "    public <T> T convert(Object src, Class<T> dest) {\n",
    "        Dataset ds = datasetService.create(new DoubleType(), [10, 10], (String) src, [Axes.X, Axes.Y]);\n",
    "        return (T) ds;\n",
    "    }\n",
    "\n",
    "    @Override\n",
    "    public Class<Dataset> getOutputType() {\n",
    "        return Dataset.class;\n",
    "    }\n",
    "\n",
    "    @Override\n",
    "    public Class<String> getInputType() {\n",
    "        return String.class;\n",
    "    }\n",
    "\n",
    "}\n",
    "\n",
    "// The @Plugin annotation is processed by the javac compiler,\n",
    "// which is used to generate the metadata in class bytecode.\n",
    "// Unfortunately, the Groovy compiler doesn't invoke the javac\n",
    "// compiler, so we need to register the plugin manually!\n",
    "narfInfo = new PluginInfo(Narf2.class, Converter.class)\n",
    "ij.plugin().addPlugin(narfInfo)\n",
    "narfInfo"
   ]
  },
  {
   "cell_type": "code",
   "execution_count": 3,
   "metadata": {},
   "outputs": [
    {
     "data": {
      "text/html": [
       "priority=10000&#8203;.0, enabled=true, pluginType=Converter"
      ]
     },
     "execution_count": 3,
     "metadata": {},
     "output_type": "execute_result"
    }
   ],
   "source": [
    "import net.imagej.Dataset;\n",
    "\n",
    "import org.scijava.Priority;\n",
    "import org.scijava.convert.AbstractConverter;\n",
    "import org.scijava.convert.Converter;\n",
    "import org.scijava.plugin.Plugin;\n",
    "import org.scijava.plugin.PluginInfo\n",
    "\n",
    "@Plugin(type = Converter.class, priority = Priority.VERY_HIGH_PRIORITY)\n",
    "public class Narf extends AbstractConverter<Dataset, String> {\n",
    "\n",
    "    @SuppressWarnings(\"unchecked\")\n",
    "    @Override\n",
    "    public <T> T convert(Object src, Class<T> dest) {\n",
    "        return (T) \"Test\";\n",
    "    }\n",
    "\n",
    "    @Override\n",
    "    public Class<String> getOutputType() {\n",
    "        return String.class;\n",
    "    }\n",
    "\n",
    "    @Override\n",
    "    public Class<Dataset> getInputType() {\n",
    "        return Dataset.class;\n",
    "    }\n",
    "\n",
    "}\n",
    "\n",
    "// The @Plugin annotation is processed by the javac compiler,\n",
    "// which is used to generate the metadata in class bytecode.\n",
    "// Unfortunately, the Groovy compiler doesn't invoke the javac\n",
    "// compiler, so we need to register the plugin manually!\n",
    "narfInfo = new PluginInfo(Narf.class, Converter.class)\n",
    "narfInfo.setPluginClass(Narf.class)\n",
    "ij.plugin().addPlugin(narfInfo)\n",
    "narfInfo"
   ]
  },
  {
   "cell_type": "markdown",
   "metadata": {},
   "source": [
    "Check if they get registered properly:"
   ]
  },
  {
   "cell_type": "code",
   "execution_count": 4,
   "metadata": {},
   "outputs": [
    {
     "name": "stdout",
     "output_type": "stream",
     "text": [
      "org.scijava.convert.CastingConverter\n",
      "org.scijava.convert.NullConverter\n",
      "Narf\n",
      "Narf2\n",
      "net.imagej.ops.geom.geom2d.LabelRegionToPolygonConverter\n",
      "net.imagej.ops.geom.geom3d.mesh.RAIToMeshConverter\n",
      "org.scijava.notebook.converter.StringToPlainNotebookConverter\n",
      "org.scijava.convert.ArrayConverters$BoolArrayUnwrapper\n",
      "org.scijava.convert.ArrayConverters$BoolArrayWrapper\n",
      "org.scijava.convert.ArrayConverters$ByteArrayUnwrapper\n",
      "org.scijava.convert.ArrayConverters$ByteArrayWrapper\n",
      "org.scijava.convert.ArrayConverters$CharArrayUnwrapper\n",
      "org.scijava.convert.ArrayConverters$CharArrayWrapper\n",
      "org.scijava.convert.ArrayConverters$DoubleArrayUnwrapper\n",
      "org.scijava.convert.ArrayConverters$DoubleArrayWrapper\n",
      "org.scijava.convert.ArrayConverters$FloatArrayUnwrapper\n",
      "org.scijava.convert.ArrayConverters$FloatArrayWrapper\n",
      "org.scijava.convert.ArrayConverters$IntArrayUnwrapper\n",
      "org.scijava.convert.ArrayConverters$IntArrayWrapper\n",
      "org.scijava.convert.ArrayConverters$LongArrayUnwrapper\n",
      "org.scijava.convert.ArrayConverters$LongArrayWrapper\n",
      "org.scijava.convert.ArrayConverters$ShortArrayUnwrapper\n",
      "org.scijava.convert.ArrayConverters$ShortArrayWrapper\n",
      "net.imagej.convert.DatasetToImgConverter\n",
      "net.imagej.convert.DatasetToImgPlusConverter\n",
      "ij.notebook.converter.ImagePlusToPNGNotebookConverter\n",
      "ij.notebook.converter.ResultsTableToHTMLTableNotebookConverter\n",
      "net.imagej.convert.ConvertIntArrayToFinalInterval\n",
      "net.imagej.convert.ConvertLongArrayToFinalInterval\n",
      "net.imagej.convert.ConvertRAIToIterableInterval\n",
      "net.imagej.legacy.convert.ImageTitleToImagePlusConverter\n",
      "net.imagej.legacy.convert.StringToImagePlusConverter\n",
      "net.imagej.notebook.converter.DatasetToPNGNotebookConverter\n",
      "net.imagej.notebook.converter.RAIToPNGNotebookConverter\n",
      "net.imagej.notebook.converter.TableToHTMLNotebookConverter\n",
      "org.scijava.convert.DefaultConverter\n",
      "org.scijava.convert.NumberConverters$BigIntegerToBigDecimalConverter\n",
      "org.scijava.convert.NumberConverters$ByteToBigDecimalConverter\n",
      "org.scijava.convert.NumberConverters$ByteToBigIntegerConverter\n",
      "org.scijava.convert.NumberConverters$ByteToDoubleConverter\n",
      "org.scijava.convert.NumberConverters$ByteToFloatConverter\n",
      "org.scijava.convert.NumberConverters$ByteToIntegerConverter\n",
      "org.scijava.convert.NumberConverters$ByteToLongConverter\n",
      "org.scijava.convert.NumberConverters$ByteToShortConverter\n",
      "org.scijava.convert.NumberConverters$DoubleToBigDecimalConverter\n",
      "org.scijava.convert.NumberConverters$FloatToBigDecimalConverter\n",
      "org.scijava.convert.NumberConverters$FloatToDoubleConverter\n",
      "org.scijava.convert.NumberConverters$IntegerToBigDecimalConverter\n",
      "org.scijava.convert.NumberConverters$IntegerToBigIntegerConverter\n",
      "org.scijava.convert.NumberConverters$IntegerToDoubleConverter\n",
      "org.scijava.convert.NumberConverters$IntegerToLongConverter\n",
      "org.scijava.convert.NumberConverters$LongToBigDecimalConverter\n",
      "org.scijava.convert.NumberConverters$LongToBigIntegerConverter\n",
      "org.scijava.convert.NumberConverters$ShortToBigDecimalConverter\n",
      "org.scijava.convert.NumberConverters$ShortToBigIntegerConverter\n",
      "org.scijava.convert.NumberConverters$ShortToDoubleConverter\n",
      "org.scijava.convert.NumberConverters$ShortToFloatConverter\n",
      "org.scijava.convert.NumberConverters$ShortToIntegerConverter\n",
      "org.scijava.convert.NumberConverters$ShortToLongConverter\n",
      "org.scijava.notebook.converter.ChartToPNGNotebookConverter\n",
      "org.scijava.notebook.converter.ListMapToHTMLTableNotebookConverter\n",
      "org.scijava.notebook.converter.ListToHTMLTableNotebookConverter\n",
      "org.scijava.notebook.converter.MapToHTMLTableNotebookConverter\n",
      "org.scijava.notebook.converter.MapToJSONNotebookConverter\n",
      "org.scijava.notebook.converter.ObjectToHTMLNotebookConverter\n",
      "org.scijava.notebook.converter.StringToJSONNotebookConverter\n",
      "org.scijava.notebook.converter.StringToLatexNotebookConverter\n",
      "org.scijava.notebook.converter.StringToMarkdownNotebookConverter\n",
      "net.imagej.convert.ConvertListToFinalInterval\n",
      "net.imagej.legacy.convert.DatasetToImagePlusConverter\n",
      "net.imagej.legacy.convert.ImageDisplayToImagePlusConverter\n",
      "net.imagej.legacy.convert.ImagePlusToDatasetConverter\n",
      "net.imagej.legacy.convert.ImagePlusToImageDisplayConverter\n",
      "net.imagej.legacy.convert.ResultsTableToGenericTableConverter\n"
     ]
    },
    {
     "data": {
      "text/plain": [
       "No Outputs"
      ]
     },
     "execution_count": 4,
     "metadata": {},
     "output_type": "execute_result"
    }
   ],
   "source": [
    "ij.plugin().getPlugins().findAll{ it.getPluginType().getName() == \"org.scijava.convert.Converter\" }.forEach{ plugin ->\n",
    "  println(plugin.getClassName())\n",
    "}"
   ]
  },
  {
   "cell_type": "markdown",
   "metadata": {},
   "source": [
    "Check if the conversion is supported:"
   ]
  },
  {
   "cell_type": "code",
   "execution_count": 5,
   "metadata": {},
   "outputs": [
    {
     "name": "stdout",
     "output_type": "stream",
     "text": [
      "true\n",
      "true\n"
     ]
    },
    {
     "data": {
      "text/plain": [
       "No Outputs"
      ]
     },
     "execution_count": 5,
     "metadata": {},
     "output_type": "execute_result"
    }
   ],
   "source": [
    "import net.imagej.Dataset;\n",
    "println(ij.convert().supports(Byte.class, Integer.class))\n",
    "println(ij.convert().supports(String.class, Dataset.class))"
   ]
  },
  {
   "cell_type": "code",
   "execution_count": 6,
   "metadata": {},
   "outputs": [
    {
     "name": "stderr",
     "output_type": "stream",
     "text": [
      "groovy.lang.MissingMethodException: No signature of method: io.scif.services.SCIFIODatasetService.create() is applicable for argument types: (net.imglib2.type.numeric.real.DoubleType, java.util.ArrayList, java.lang.String, java.util.ArrayList) values: [0.0, [10, 10], Put some trousers on, [X, Y]]\n",
      "Possible solutions: create(net.imglib2.type.numeric.RealType, [J, java.lang.String, [Lnet.imagej.axis.AxisType;), create(net.imagej.ImgPlus), create(net.imglib2.RandomAccessibleInterval), create(net.imglib2.img.ImgFactory, net.imglib2.type.numeric.RealType, [J, java.lang.String, [Lnet.imagej.axis.AxisType;), create(net.imglib2.type.numeric.RealType, [J, java.lang.String, [Lnet.imagej.axis.AxisType;, boolean), grep()\n",
      "\tat org.codehaus.groovy.runtime.ScriptBytecodeAdapter.unwrap(ScriptBytecodeAdapter.java:58)\n",
      "\tat org.codehaus.groovy.runtime.callsite.PojoMetaClassSite.call(PojoMetaClassSite.java:49)\n",
      "\tat org.codehaus.groovy.runtime.callsite.CallSiteArray.defaultCall(CallSiteArray.java:48)\n",
      "\tat org.codehaus.groovy.runtime.callsite.AbstractCallSite.call(AbstractCallSite.java:113)\n",
      "\tat org.codehaus.groovy.runtime.callsite.AbstractCallSite.call(AbstractCallSite.java:149)\n",
      "\tat Narf2.convert(Script2.groovy:23)\n",
      "\tat org.scijava.convert.AbstractConvertService.convert(AbstractConvertService.java:127)\n",
      "\tat org.scijava.module.DefaultModuleService.assignInputs(DefaultModuleService.java:472)\n",
      "\tat org.scijava.module.DefaultModuleService.run(DefaultModuleService.java:241)\n",
      "\tat org.scijava.module.DefaultModuleService.run(DefaultModuleService.java:210)\n",
      "\tat org.scijava.module.DefaultModuleService.run(DefaultModuleService.java:199)\n",
      "\tat org.scijava.module.DefaultModuleService.run(DefaultModuleService.java:184)\n",
      "\tat org.scijava.command.DefaultCommandService.run(DefaultCommandService.java:186)\n",
      "\tat org.scijava.command.DefaultCommandService.run(DefaultCommandService.java:169)\n",
      "\tat sun.reflect.NativeMethodAccessorImpl.invoke0(Native Method)\n",
      "\tat sun.reflect.NativeMethodAccessorImpl.invoke(NativeMethodAccessorImpl.java:62)\n",
      "\tat sun.reflect.DelegatingMethodAccessorImpl.invoke(DelegatingMethodAccessorImpl.java:43)\n",
      "\tat java.lang.reflect.Method.invoke(Method.java:498)\n",
      "\tat org.codehaus.groovy.runtime.callsite.PojoMetaMethodSite$PojoCachedMethodSite.invoke(PojoMetaMethodSite.java:192)\n",
      "\tat org.codehaus.groovy.runtime.callsite.PojoMetaMethodSite.call(PojoMetaMethodSite.java:56)\n",
      "\tat org.codehaus.groovy.runtime.callsite.CallSiteArray.defaultCall(CallSiteArray.java:48)\n",
      "\tat org.codehaus.groovy.runtime.callsite.AbstractCallSite.call(AbstractCallSite.java:113)\n",
      "\tat org.codehaus.groovy.runtime.callsite.AbstractCallSite.call(AbstractCallSite.java:149)\n",
      "\tat Script6.run(Script6.groovy:24)\n",
      "\tat org.scijava.plugins.scripting.groovy.GroovyScriptEngine.eval(GroovyScriptEngine.java:303)\n",
      "\tat org.scijava.plugins.scripting.groovy.GroovyScriptEngine.eval(GroovyScriptEngine.java:122)\n",
      "\tat javax.script.AbstractScriptEngine.eval(AbstractScriptEngine.java:264)\n",
      "\tat org.scijava.script.ScriptModule.run(ScriptModule.java:159)\n",
      "\tat org.scijava.module.ModuleRunner.run(ModuleRunner.java:167)\n",
      "\tat org.scijava.jupyter.kernel.evaluator.Worker.run(Worker.java:109)\n",
      "\tat org.scijava.thread.DefaultThreadService$2.run(DefaultThreadService.java:220)\n",
      "\tat java.util.concurrent.Executors$RunnableAdapter.call(Executors.java:511)\n",
      "\tat java.util.concurrent.FutureTask.run(FutureTask.java:266)\n",
      "\tat java.util.concurrent.ThreadPoolExecutor.runWorker(ThreadPoolExecutor.java:1142)\n",
      "\tat java.util.concurrent.ThreadPoolExecutor$Worker.run(ThreadPoolExecutor.java:617)\n",
      "\tat java.lang.Thread.run(Thread.java:745)\n"
     ]
    },
    {
     "data": {
      "text/plain": [
       "No Outputs"
      ]
     },
     "execution_count": 6,
     "metadata": {},
     "output_type": "execute_result"
    }
   ],
   "source": [
    "import net.imagej.Dataset;\n",
    "import net.imagej.ImageJ;\n",
    "\n",
    "import org.scijava.command.Command;\n",
    "import org.scijava.plugin.Parameter;\n",
    "import org.scijava.plugin.Plugin;\n",
    "import org.scijava.plugin.PluginInfo\n",
    "\n",
    "/** How to use create a new ImageJ OP. */\n",
    "@Plugin(type = Command.class)\n",
    "public class TestCommand implements Command {\n",
    "\n",
    "    @Parameter\n",
    "    Dataset input;\n",
    "\n",
    "    @Override\n",
    "    public void run() {\n",
    "        println(input);\n",
    "    }\n",
    "\n",
    "}\n",
    "\n",
    "// Run our shiny new command\n",
    "final Object narf = ij.command().run(TestCommand.class, true, \"input\", \"Put some trousers on\");\n",
    "narf.get().run()"
   ]
  }
 ],
 "metadata": {
  "kernelspec": {
   "display_name": "SciJava",
   "language": "groovy",
   "name": "scijava"
  },
  "language_info": {
   "codemirror_mode": "groovy",
   "file_extension": "",
   "mimetype": "",
   "name": "scijava",
   "nbconverter_exporter": "",
   "pygments_lexer": "groovy",
   "version": "1.0"
  },
  "widgets": {
   "state": {},
   "version": "1.1.1"
  }
 },
 "nbformat": 4,
 "nbformat_minor": 2
}
