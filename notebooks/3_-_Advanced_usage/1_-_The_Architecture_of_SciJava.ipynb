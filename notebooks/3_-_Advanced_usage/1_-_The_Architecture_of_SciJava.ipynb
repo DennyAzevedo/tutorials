{
 "cells": [
  {
   "cell_type": "markdown",
   "metadata": {},
   "source": [
    "# The Architecture of ImageJ\n",
    "Let's get started by discussing a little bit about the [Architecture](http://imagej.net/Architecture) of ImageJ."
   ]
  },
  {
   "cell_type": "markdown",
   "metadata": {},
   "source": [
    "## The ImageJ software stack"
   ]
  },
  {
   "cell_type": "markdown",
   "metadata": {},
   "source": [
    "<div style=\"float: left\"><img src=\"http://imagej.net/_images/0/03/Architecture_digraph_libs_dot.png\" width=\"75%\"></div>\n",
    "\n",
    "The [ImageJ software stack](http://imagej.net/Architecture#Core_libraries) is composed of the following core libraries:\n",
    "\n",
    "* [SciJava Common](http://imagej.net/SciJava_Common) - The SciJava application container and plugin framework.\n",
    "* [ImgLib2](http://imagej.net/ImgLib2) - The N-dimensional image data model.\n",
    "* [ImageJ Common](http://imagej.net/ImageJ_Common) - Metadata-rich image data structures and SciJava extensions.\n",
    "* [ImageJ Ops](http://imagej.net/ImageJ_Ops) - The framework for reusable image processing operations.\n",
    "* [SCIFIO](http://imagej.net/SCIFIO) - The framework for N-dimensional image I/O.\n",
    "\n",
    "These libraries form the basis of ImageJ-based software.\n",
    "\n",
    "<div style=\"clear: left\"></div>\n",
    "\n",
    "Important design goals of ImageJ include:\n",
    "\n",
    "* __Modularity.__ ImageJ libraries provide a good [separation of concerns](https://en.wikipedia.org/wiki/Separation_of_concerns). Developers in need of specific functionality may depend on only those components which are relevant, rather than needing to add a dependency to the entire ImageJ software stack.\n",
    "\n",
    "* __UI agnosticm.__ The core libraries take great pains to be _UI agnostic_ with no dependencies on packages such as `java.awt` or `javax.swing`. It should be possible to build a [user interface](https://en.wikipedia.org/wiki/Graphical_user_interface) (UI) on top of the core libraries without needing to change the library code itself. There are several proof-of-concept UIs for ImageJ using different UI frameworks, including [Swing](https://github.com/imagej/imagej-ui-swing), [AWT](https://github.com/imagej/imagej-ui-awt), [Apache Pivot](https://github.com/scijava/scijava-ui-pivot) and [JavaFX](https://github.com/cmongis/imagejfx).\n",
    "\n",
    "* __Extensibility.__ ImageJ provides many different types of plugins, and it is possible to extend the system with your own new types of plugins. See the \"Extending ImageJ\" tutorials for details.\n",
    "\n",
    "For further details, see the [Architecture](https://imagej.net/Architecture) page."
   ]
  },
  {
   "cell_type": "code",
   "execution_count": null,
   "metadata": {
    "collapsed": true
   },
   "outputs": [],
   "source": []
  }
 ],
 "metadata": {
  "kernelspec": {
   "display_name": "SciJava",
   "language": "groovy",
   "name": "scijava"
  },
  "language_info": {
   "codemirror_mode": "groovy",
   "file_extension": "",
   "mimetype": "",
   "name": "scijava",
   "nbconverter_exporter": "",
   "pygments_lexer": "groovy",
   "version": "1.0"
  }
 },
 "nbformat": 4,
 "nbformat_minor": 2
}
