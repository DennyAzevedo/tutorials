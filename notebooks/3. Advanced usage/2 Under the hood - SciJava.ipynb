{
 "cells": [
  {
   "cell_type": "markdown",
   "metadata": {},
   "source": [
    "# Under the hood: SciJava"
   ]
  },
  {
   "cell_type": "markdown",
   "metadata": {},
   "source": [
    "Let's dig in to how the SciJava Common library works under the hood!"
   ]
  },
  {
   "cell_type": "markdown",
   "metadata": {},
   "source": [
    "## Plugins"
   ]
  },
  {
   "cell_type": "markdown",
   "metadata": {},
   "source": [
    "First and foremost, [SciJava Common](http://imagej.net/SciJava_Common) is a plugin framework—a base for developing highly modular and extensible Java applications.  All plugins available on Java's classpath are automatically discovered and made available. This is accomplished by scanning classpath resources for the file path <code>META-INF/json/org.scijava.plugin.Plugin</code>. Such files are generated at compile time by a Java annotation processor that writes them in response to <code>@Plugin</code> annotations on Java classes.\n",
    "\n",
    "In [ImageJ2](http://imagej.net/ImageJ2) , we invented a plugin mechanism to replace ImageJ 1.x plugins, now called \"commands\" in ImageJ2 to distinguish from other plugins. We factor out plugin discovery from ImageJ2 into a base library: [SciJava Common](http://imagej.net/SciJava_Common#Services)."
   ]
  },
  {
   "cell_type": "code",
   "execution_count": 1,
   "metadata": {
    "collapsed": false
   },
   "outputs": [
    {
     "data": {
      "text/plain": [
       "ImageJ is ready to go."
      ]
     },
     "execution_count": 1,
     "metadata": {},
     "output_type": "execute_result"
    }
   ],
   "source": [
    "#@ImageJ ij\n",
    "\n",
    "// Behind a firewall? Configure your proxy settings here.\n",
    "//System.setProperty(\"http.proxyHost\",\"myproxy.domain\")\n",
    "//System.setProperty(\"http.proxyPort\",\"8080\")\n",
    "\n",
    "\"ImageJ is ready to go.\""
   ]
  },
  {
   "cell_type": "markdown",
   "metadata": {},
   "source": [
    "## The Context"
   ]
  },
  {
   "cell_type": "markdown",
   "metadata": {},
   "source": [
    "The job of the `Context` is to keep track of the currently available plugins. The SciJava context is a container of named `Service` plugins that hold local state information.\n",
    "\n",
    "References to all the `@Plugin`-annotated classes that are discovered are contained in a single, master `Context`. Each application is responsible for creating its own `Context` to manage plugins and contextual state.\n",
    "\n",
    "In ImageJ, a `Context` is automatically created when the application starts up, so plugin developers do not need to create their own. In fact, creating your own `Context` typically causes problems, as it will be a different container than what the rest of ImageJ is using. Instead, plugin instances within a common `Context` are provided automatically by the framework—you just have to ask for it.\n",
    "\n",
    "Typically, ImageJ plugin developers will be writing `Service` and/or `Command` plugins. If you need to use another plugin—for example, the `LogService`—you should not manually create it as this effectively disconnects you from your `Context`. Instead, you should ask your `Context` for an instance by adding a field of the desired type and annotating it with the `@Parameter` annotation. For example:"
   ]
  },
  {
   "cell_type": "code",
   "execution_count": 24,
   "metadata": {
    "collapsed": false
   },
   "outputs": [
    {
     "name": "stderr",
     "output_type": "stream",
     "text": [
      "groovy.lang.MissingMethodException: No signature of method: org.scijava.plugin.DefaultPluginService.addPlugin() is applicable for argument types: (java.lang.Class) values: [class MyPlugin]\n",
      "Possible solutions: addPlugin(org.scijava.plugin.PluginInfo), addPlugins(java.util.Collection), getPlugin(java.lang.Class), getPlugin(java.lang.String), getPlugin(java.lang.Class, java.lang.Class), getPlugins()\n",
      "\tat org.codehaus.groovy.runtime.ScriptBytecodeAdapter.unwrap(ScriptBytecodeAdapter.java:58)\n",
      "\tat org.codehaus.groovy.runtime.callsite.PojoMetaClassSite.call(PojoMetaClassSite.java:49)\n",
      "\tat org.codehaus.groovy.runtime.callsite.CallSiteArray.defaultCall(CallSiteArray.java:48)\n",
      "\tat org.codehaus.groovy.runtime.callsite.AbstractCallSite.call(AbstractCallSite.java:113)\n",
      "\tat org.codehaus.groovy.runtime.callsite.AbstractCallSite.call(AbstractCallSite.java:125)\n",
      "\tat Script15.run(Script15.groovy:29)\n",
      "\tat org.scijava.plugins.scripting.groovy.GroovyScriptEngine.eval(GroovyScriptEngine.java:303)\n",
      "\tat org.scijava.plugins.scripting.groovy.GroovyScriptEngine.eval(GroovyScriptEngine.java:122)\n",
      "\tat javax.script.AbstractScriptEngine.eval(AbstractScriptEngine.java:264)\n",
      "\tat org.scijava.script.ScriptModule.run(ScriptModule.java:159)\n",
      "\tat org.scijava.module.ModuleRunner.run(ModuleRunner.java:167)\n",
      "\tat org.scijava.jupyter.kernel.evaluator.Worker.run(Worker.java:109)\n",
      "\tat org.scijava.thread.DefaultThreadService$2.run(DefaultThreadService.java:220)\n",
      "\tat java.util.concurrent.Executors$RunnableAdapter.call(Executors.java:511)\n",
      "\tat java.util.concurrent.FutureTask.run(FutureTask.java:266)\n",
      "\tat java.util.concurrent.ThreadPoolExecutor.runWorker(ThreadPoolExecutor.java:1142)\n",
      "\tat java.util.concurrent.ThreadPoolExecutor$Worker.run(ThreadPoolExecutor.java:617)\n",
      "\tat java.lang.Thread.run(Thread.java:745)\n"
     ]
    },
    {
     "data": {
      "text/plain": [
       "No Outputs"
      ]
     },
     "execution_count": 24,
     "metadata": {},
     "output_type": "execute_result"
    }
   ],
   "source": [
    "import org.scijava.command.Command\n",
    "import org.scijava.log.LogService\n",
    "import org.scijava.plugin.Parameter\n",
    "import org.scijava.plugin.Plugin\n",
    "\n",
    "@Plugin(type = Command.class)\n",
    "public class MyPlugin implements Command {\n",
    " \n",
    "  // This @Parameter notation is 'asking' the Context\n",
    "  // for an instance of LogService.\n",
    "  @Parameter\n",
    "  private LogService log\n",
    "  \n",
    "  @Parameter\n",
    "  private String message\n",
    " \n",
    "  @Override\n",
    "  public void run() {\n",
    "    // Just use the LogService!\n",
    "    // There is no need to construct it, since the Context\n",
    "    // has already provided an appropriate instance.\n",
    "    log.info(message)\n",
    "  }\n",
    "  \n",
    "}\n",
    "\n",
    "// Save a reference to the class for later.\n",
    "myPluginClass = MyPlugin.class\n",
    "\n",
    "// TODO: Figure out why log message in this command are swallowed.\n",
    "// Execute our sample command.\n",
    "ij.command().run(MyPlugin.class, true, \"message\", \"Success!\").get()"
   ]
  },
  {
   "cell_type": "markdown",
   "metadata": {},
   "source": [
    "This will allow the <code>Context</code> to provide you with the appropriate instance of your requested service."
   ]
  },
  {
   "cell_type": "code",
   "execution_count": 23,
   "metadata": {
    "collapsed": false
   },
   "outputs": [
    {
     "data": {
      "text/plain": [
       "No Outputs"
      ]
     },
     "execution_count": 23,
     "metadata": {},
     "output_type": "execute_result"
    }
   ],
   "source": [
    "info = ij.plugin().getPlugin(myPluginClass)"
   ]
  },
  {
   "cell_type": "code",
   "execution_count": 18,
   "metadata": {
    "collapsed": false
   },
   "outputs": [
    {
     "name": "stderr",
     "output_type": "stream",
     "text": [
      "[ERROR] Cannot create plugin: null\n",
      "java.lang.NullPointerException\n",
      "\tat org.scijava.plugin.DefaultPluginService.createInstance(DefaultPluginService.java:236)\n",
      "\tat org.scijava.plugin.PluginService$createInstance$0.call(Unknown Source)\n",
      "\tat org.codehaus.groovy.runtime.callsite.CallSiteArray.defaultCall(CallSiteArray.java:48)\n",
      "\tat org.codehaus.groovy.runtime.callsite.AbstractCallSite.call(AbstractCallSite.java:113)\n",
      "\tat org.codehaus.groovy.runtime.callsite.AbstractCallSite.call(AbstractCallSite.java:125)\n",
      "\tat Script11.run(Script11.groovy:2)\n",
      "\tat org.scijava.plugins.scripting.groovy.GroovyScriptEngine.eval(GroovyScriptEngine.java:303)\n",
      "\tat org.scijava.plugins.scripting.groovy.GroovyScriptEngine.eval(GroovyScriptEngine.java:122)\n",
      "\tat javax.script.AbstractScriptEngine.eval(AbstractScriptEngine.java:264)\n",
      "\tat org.scijava.script.ScriptModule.run(ScriptModule.java:159)\n",
      "\tat org.scijava.module.ModuleRunner.run(ModuleRunner.java:167)\n",
      "\tat org.scijava.jupyter.kernel.evaluator.Worker.run(Worker.java:109)\n",
      "\tat org.scijava.thread.DefaultThreadService$2.run(DefaultThreadService.java:220)\n",
      "\tat java.util.concurrent.Executors$RunnableAdapter.call(Executors.java:511)\n",
      "\tat java.util.concurrent.FutureTask.run(FutureTask.java:266)\n",
      "\tat java.util.concurrent.ThreadPoolExecutor.runWorker(ThreadPoolExecutor.java:1142)\n",
      "\tat java.util.concurrent.ThreadPoolExecutor$Worker.run(ThreadPoolExecutor.java:617)\n",
      "\tat java.lang.Thread.run(Thread.java:745)\n",
      "java.lang.NullPointerException: Cannot invoke method run() on null object\n",
      "\tat org.codehaus.groovy.runtime.NullObject.invokeMethod(NullObject.java:91)\n",
      "\tat org.codehaus.groovy.runtime.callsite.PogoMetaClassSite.call(PogoMetaClassSite.java:48)\n",
      "\tat org.codehaus.groovy.runtime.callsite.CallSiteArray.defaultCall(CallSiteArray.java:48)\n",
      "\tat org.codehaus.groovy.runtime.callsite.NullCallSite.call(NullCallSite.java:35)\n",
      "\tat org.codehaus.groovy.runtime.callsite.CallSiteArray.defaultCall(CallSiteArray.java:48)\n",
      "\tat org.codehaus.groovy.runtime.callsite.AbstractCallSite.call(AbstractCallSite.java:113)\n",
      "\tat org.codehaus.groovy.runtime.callsite.AbstractCallSite.call(AbstractCallSite.java:117)\n",
      "\tat Script11.run(Script11.groovy:3)\n",
      "\tat org.scijava.plugins.scripting.groovy.GroovyScriptEngine.eval(GroovyScriptEngine.java:303)\n",
      "\tat org.scijava.plugins.scripting.groovy.GroovyScriptEngine.eval(GroovyScriptEngine.java:122)\n",
      "\tat javax.script.AbstractScriptEngine.eval(AbstractScriptEngine.java:264)\n",
      "\tat org.scijava.script.ScriptModule.run(ScriptModule.java:159)\n",
      "\tat org.scijava.module.ModuleRunner.run(ModuleRunner.java:167)\n",
      "\tat org.scijava.jupyter.kernel.evaluator.Worker.run(Worker.java:109)\n",
      "\tat org.scijava.thread.DefaultThreadService$2.run(DefaultThreadService.java:220)\n",
      "\tat java.util.concurrent.Executors$RunnableAdapter.call(Executors.java:511)\n",
      "\tat java.util.concurrent.FutureTask.run(FutureTask.java:266)\n",
      "\tat java.util.concurrent.ThreadPoolExecutor.runWorker(ThreadPoolExecutor.java:1142)\n",
      "\tat java.util.concurrent.ThreadPoolExecutor$Worker.run(ThreadPoolExecutor.java:617)\n",
      "\tat java.lang.Thread.run(Thread.java:745)\n"
     ]
    }
   ],
   "source": [
    "plugin = ij.plugin().createInstance(info)\n",
    "plugin.run() // but message is still null\n",
    "\n",
    "//TODO: Consider using a different plugin type"
   ]
  },
  {
   "cell_type": "markdown",
   "metadata": {},
   "source": [
    "In some rare cases, manual plugin construction is unavoidable. Understand that if the <code>MyPlugin</code> class above is manually constructed—i.e. via <code>new MyPlugin()</code>—the <code>LogService</code> parameter will be <code>null</code>. Automatic population only occurs if the plugin instance itself is retrieved via the framework. When you must manually construct a plugin instance, you can still re-connect it to an existing <code>Context</code> via its injection mechanism:"
   ]
  },
  {
   "cell_type": "code",
   "execution_count": 31,
   "metadata": {
    "collapsed": false
   },
   "outputs": [
    {
     "data": {
      "text/plain": [
       "MyService"
      ]
     },
     "execution_count": 31,
     "metadata": {},
     "output_type": "execute_result"
    }
   ],
   "source": [
    "import org.scijava.plugin.Plugin\n",
    "import org.scijava.Context;\n",
    "import org.scijava.plugin.Parameter\n",
    "import org.scijava.command.Command\n",
    "\n",
    "@Plugin(type = Command.class)\n",
    "public class MyService implements Command {\n",
    " \n",
    "  // This service will manually create plugin instances.\n",
    "  // So, we need a reference to our containing Context,\n",
    "  // then we can use it to inject our plugins.\n",
    "  @Parameter\n",
    "  private Context context\n",
    "  \n",
    "  @Override\n",
    "  public void run() {\n",
    "    // Manually create a plugin instance.\n",
    "    // It is not connected to a Context yet\n",
    "    MyPlugin plugin = new MyPlugin()\n",
    " \n",
    "    // Inject the plugin instance with our Context.\n",
    "    context.inject(plugin)\n",
    " \n",
    "    // Now that our plugin is injected, we can use\n",
    "    // it with the knowledge that its parameters\n",
    "    // have been populated.\n",
    "    plugin.run() // but message is still null\n",
    "  }\n",
    "}\n",
    "\n",
    "// executing our sample command\n",
    "ij.command().run(MyService.class, true).get()"
   ]
  },
  {
   "cell_type": "markdown",
   "metadata": {},
   "source": [
    "## Services"
   ]
  },
  {
   "cell_type": "markdown",
   "metadata": {},
   "source": [
    "[Services](http://imagej.net/SciJava_Common#Services) are—surprise!—SciJava Plugins. Just like plugins, there are Service interfaces and implementing classes. This allows a proper separation between the Service's public contract and the details of its implementation.\n",
    "\n",
    "Services are defined as interfaces, with concrete implementations as plugins. This design provides [seams](http://c2.com/cgi/wiki?SoftwareSeam) in the right places so that behavior at every level can be customized and overridden.\n",
    "\n",
    "Services provide two important functions to the SciJava framework: utility methods and persistent state. If you want to add reusable Java methods that can be used throughout the SciJava framework, then you should create a <code>Service</code> to provide this functionality. If you need to track Context-wide variables or configuration, a <code>Service</code> should be used to encapsulate that state.\n",
    "\n",
    "Conceptually, a <code>Service</code> satisfies the role of [static utility classes](https://en.wikipedia.org/wiki/Utility_class) on a per-Context basis. In this way, only one [instance](http://math.hws.edu/javanotes/c5/s1.html ) of each <code>Service</code> class can be associated with a given <code>Context</code> instance; an association that occurs automatically during <code>Context</code> creation. Furthermore, when a <code>Context</code> is asked for an implementation of a given <code>Service</code>, only the highest priority instance will be returned.\n",
    "\n",
    "Services often build on or reuse functionality defined in each other. For example, the <code>PluginService</code> sees ubiquitous use in retrieving and working with plugin instances. For such reuse, <code>@Parameter</code> annotation can be used to declare inter-service requirements. During <code>Context</code> startup, these relationships will be resolved automatically."
   ]
  },
  {
   "cell_type": "code",
   "execution_count": 25,
   "metadata": {
    "collapsed": false
   },
   "outputs": [
    {
     "data": {
      "text/plain": [
       "HelloService ready"
      ]
     },
     "execution_count": 25,
     "metadata": {},
     "output_type": "execute_result"
    }
   ],
   "source": [
    "import org.scijava.service.SciJavaService\n",
    "import org.scijava.service.Service\n",
    "import org.scijava.service.AbstractService\n",
    "import org.scijava.app.StatusService\n",
    "import org.scijava.plugin.Plugin\n",
    "import org.scijava.plugin.Parameter\n",
    "\n",
    "// Example Service Interface:\n",
    "public interface HelloService extends SciJavaService {\n",
    "  public void sayHello()\n",
    "}\n",
    "\n",
    "// Example implementation:\n",
    "@Plugin(type = Service.class)\n",
    "public class DefaultHelloService extends AbstractService implements HelloService {\n",
    "\n",
    "  @Parameter\n",
    "  private StatusService status\n",
    "\n",
    "  @Override\n",
    "  public void initialize() {\n",
    "          // initialize as little as possible here\n",
    "  }\n",
    "\n",
    "  @Override\n",
    "  public void sayHello() {\n",
    "          status.showStatus(\"Howdy!\")\n",
    "  }\n",
    "}\n",
    "\n",
    "\"HelloService ready\""
   ]
  },
  {
   "cell_type": "markdown",
   "metadata": {},
   "source": [
    "## Commands"
   ]
  },
  {
   "cell_type": "markdown",
   "metadata": {},
   "source": [
    "Whereas `Service`s provide internal functionality, `Command`s are plugins designed to be executed as one-offs, typically interacting with users to achieve some desired outcome. When opening the ImageJ GUI, Commands are what populate your menu structure: exposing functionality and algorithms in a way that can be consumed by non-developers.\n",
    "\n",
    "When writing `Command`s you will often declare `@Parameter`s on fields that _cannot_ be resolved automatically by the `Context`—for example, numeric values or file paths. Instead of being instantiated at `Context` startup as a `Service` would be, `Command`s are created and executed on demand.\n",
    "\n",
    "When a `Command` is executed, it goes through a series of pre-processing steps to populate its `@Parameter`s using its associated `Context`. If any parameters are left unresolved and a UI is available, the framework will automatically build and display an appropriate dialog to get user input. In this way, input harvesting is decoupled from functional operation—allowing developers to focus on what's really important without repetition of code. This also means that `Command`s can typically run [headlessly](http://imagej.net/Headless) without any extra development effort.\n",
    "\n",
    "A common pattern in `Command` development is to wrap `Service` functionality. For example, opening an image from a path is a fundamental operation in ImageJ. To this end, developers can directly use the `DatasetIOService`. Users then get this same functionality from the menus via the `OpenDataset` command—which itself simply calls into the `DatasetIOService`.\n"
   ]
  },
  {
   "cell_type": "markdown",
   "metadata": {},
   "source": [
    "## Gateways"
   ]
  },
  {
   "cell_type": "markdown",
   "metadata": {},
   "source": [
    "A `Gateway` is a plugin intended to make life easier for developers. It wraps a `Context`, offering type-safe access to core services. Everything you can do with a gateway you can also do without it—but the gateway object makes the API much more succinct and convenient."
   ]
  },
  {
   "cell_type": "code",
   "execution_count": 28,
   "metadata": {
    "collapsed": false
   },
   "outputs": [
    {
     "data": {
      "text/html": [
       "<style>table.converted {color: #333; font-family: Helvetica, Arial, sans-serif; border-collapse: collapse; border-spacing: 0;}table.converted td, table.converted th {border: 1px solid #C9C7C7;}table.converted th, table.converted td.rowLabel {background: #626262; color: #FFFFFF; font-weight: bold; text-align: left;}table.converted td {text-align: left;}table.converted tr:nth-child(even) {background: #F3F3F3;}table.converted tr:nth-child(odd) {background: #FFFFFF;}table.converted tbody tr:hover {background: #BDF4B5;}table.converted td.rowLabel, table.converted th.rowLabel {display: none;}</style><table class =\"converted\"><thead><tr><th>Key</th><th>Value</th></tr></thead><tbody><tr><td>Plugin count</td><td>1506</td></tr><tr><td>Module count</td><td>1093</td></tr><tr><td>Service count</td><td>92</td></tr><tr><td>SciJava version</td><td>2&#8203;.64&#8203;.0</td></tr><tr><td>Where is SciJava?</td><td>file:/Users/curtis/anaconda3/envs/java&#8203;_env/opt/scijava-jupyter-kernel/scijava-common-2&#8203;.64&#8203;.0&#8203;.jar</td></tr></tbody></table>"
      ]
     },
     "execution_count": 28,
     "metadata": {},
     "output_type": "execute_result"
    }
   ],
   "source": [
    "// Create a SciJava gateway.\n",
    "import org.scijava.SciJava\n",
    "sj = new SciJava()\n",
    "\n",
    "// Now bask in the convenience!\n",
    "import org.scijava.service.Service\n",
    "[\n",
    "    \"Plugin count\"      : sj.plugin().getPlugins().size(),\n",
    "    \"Module count\"      : sj.module().getModules().size(),\n",
    "    \"Service count\"     : sj.plugin().getPluginsOfType(Service.class).size(),\n",
    "    \"SciJava version\"   : sj.getVersion(),\n",
    "    \"Where is SciJava?\" : sj.getApp().getLocation()\n",
    "]"
   ]
  },
  {
   "cell_type": "markdown",
   "metadata": {},
   "source": [
    "## Other plugins and services"
   ]
  },
  {
   "cell_type": "markdown",
   "metadata": {},
   "source": [
    "Because virtually everything is a plugin in ImageJ, there are too many to explicitly enumerate, let alone cover in a tutorial. To get ideas for functionality that can be added, a good starting point is to look for services in the [javadoc](http://javadoc.imagej.net/), or the [ImageJ search portal](http://search.imagej.net/ ). Many service types have supplemental plugins for easy functional extension. In particular, the [imagej-common](http://imagej.net/ImageJ_Common) and [scijava-common](http://imagej.net/SciJava_Common) repositories will contain plugin definitions for many essential operations.\n",
    "\n",
    "A brief list of some of the more useful plugin types to extend:\n",
    "\n",
    "* <code>Ops</code> provide a reusable set of image processing algorithms.\n",
    "* <code>Image formats</code> allow new types of images to be opened in ImageJ.\n",
    "* <code>Converters</code> allow the framework to interchange types, outside of normal Java class hierarchy restrictions.\n",
    "* <code>Input Preprocessors</code> give you control over the population of <code>@Parameters</code>.\n",
    "* <code>Displays</code> control how UI elements are presented to users.\n",
    "\n",
    "If you know the function you want to modify but can't determine its location in the code, please [ask other developers](http://imagej.net/Help). You're part of the community now!\n"
   ]
  }
 ],
 "metadata": {
  "kernelspec": {
   "display_name": "SciJava",
   "language": "groovy",
   "name": "scijava"
  },
  "language_info": {
   "codemirror_mode": "groovy",
   "file_extension": "",
   "mimetype": "",
   "name": "scijava",
   "nbconverter_exporter": "",
   "pygments_lexer": "groovy",
   "version": "1.0"
  }
 },
 "nbformat": 4,
 "nbformat_minor": 2
}
