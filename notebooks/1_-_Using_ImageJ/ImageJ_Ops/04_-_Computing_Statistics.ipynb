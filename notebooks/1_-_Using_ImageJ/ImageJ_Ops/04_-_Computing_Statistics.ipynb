{
 "cells": [
  {
   "cell_type": "markdown",
   "metadata": {},
   "source": [
    "# Computing Statistics"
   ]
  },
  {
   "cell_type": "code",
   "execution_count": 1,
   "metadata": {
    "collapsed": true
   },
   "outputs": [],
   "source": [
    "#@ImageJ ij"
   ]
  },
  {
   "cell_type": "markdown",
   "metadata": {},
   "source": [
    "The `stats` package has routines for computing numerical statistics.\n",
    "\n",
    "Here is a rundown of many of them:"
   ]
  },
  {
   "cell_type": "code",
   "execution_count": 2,
   "metadata": {},
   "outputs": [
    {
     "data": {
      "text/html": [
       "<style>table.converted {color: #333; font-family: Helvetica, Arial, sans-serif; border-collapse: collapse; border-spacing: 0;}table.converted td, table.converted th {border: 1px solid #C9C7C7;}table.converted th, table.converted td.rowLabel {background: #626262; color: #FFFFFF; font-weight: bold; text-align: left;}table.converted td {text-align: left;}table.converted tr:nth-child(even) {background: #F3F3F3;}table.converted tr:nth-child(odd) {background: #FFFFFF;}table.converted tbody tr:hover {background: #BDF4B5;}table.converted td.rowLabel, table.converted th.rowLabel {display: none;}</style><table class =\"converted\"><thead><tr><th>Key</th><th>Value</th></tr></thead><tbody><tr><td>geometricMean</td><td>106&#8203;.86402515788897</td></tr><tr><td>harmonicMean</td><td>60&#8203;.81451530914875</td></tr><tr><td>kurtosis</td><td>2&#8203;.250389182944452</td></tr><tr><td>max</td><td>252&#8203;.9996057999923</td></tr><tr><td>mean</td><td>130&#8203;.35596075261444</td></tr><tr><td>median</td><td>129&#8203;.34019425677636</td></tr><tr><td>min</td><td>1&#8203;.293813403205192</td></tr><tr><td>moment1AboutMean</td><td>-2&#8203;.877214910768089E-13</td></tr><tr><td>moment2AboutMean</td><td>3982&#8203;.1563522625042</td></tr><tr><td>moment3AboutMean</td><td>-10221&#8203;.960619118927</td></tr><tr><td>moment4AboutMean</td><td>3&#8203;.569046079615442E7</td></tr><tr><td>size</td><td>15000&#8203;.0</td></tr><tr><td>skewness</td><td>-0&#8203;.04067366532821499</td></tr><tr><td>stdDev</td><td>63&#8203;.106432691542885</td></tr><tr><td>sum</td><td>1955339&#8203;.4112892165</td></tr><tr><td>sumOfInverses</td><td>246&#8203;.65164103911627</td></tr><tr><td>sumOfLogs</td><td>70073&#8203;.35850104403</td></tr><tr><td>sumOfSquares</td><td>3&#8203;.146224928399938E8</td></tr><tr><td>variance</td><td>3982&#8203;.4218470523483</td></tr></tbody></table>"
      ]
     },
     "execution_count": 2,
     "metadata": {},
     "output_type": "execute_result"
    }
   ],
   "source": [
    "sinusoid32 = ij.op().run(\"create.img\", [150, 100])\n",
    "formula = \"63 * (Math.cos(0.3*p[0]) + Math.sin(0.3*p[1])) + 127\"\n",
    "ij.op().image().equation(sinusoid32, formula)\n",
    "\n",
    "[\"geometricMean\": ij.op().stats().geometricMean(sinusoid32),\n",
    "\"harmonicMean\": ij.op().stats().harmonicMean(sinusoid32),\n",
    "\"kurtosis\": ij.op().stats().kurtosis(sinusoid32),\n",
    "\"max\": ij.op().stats().max(sinusoid32),\n",
    "\"mean\": ij.op().stats().mean(sinusoid32),\n",
    "\"median\": ij.op().stats().median(sinusoid32),\n",
    "\"min\": ij.op().stats().min(sinusoid32),\n",
    "\"moment1AboutMean\": ij.op().stats().moment1AboutMean(sinusoid32),\n",
    "\"moment2AboutMean\": ij.op().stats().moment2AboutMean(sinusoid32),\n",
    "\"moment3AboutMean\": ij.op().stats().moment3AboutMean(sinusoid32),\n",
    "\"moment4AboutMean\": ij.op().stats().moment4AboutMean(sinusoid32),\n",
    "\"size\": ij.op().stats().size(sinusoid32),\n",
    "\"skewness\": ij.op().stats().skewness(sinusoid32),\n",
    "\"stdDev\": ij.op().stats().stdDev(sinusoid32),\n",
    "\"sum\": ij.op().stats().sum(sinusoid32),\n",
    "\"sumOfInverses\": ij.op().stats().sumOfInverses(sinusoid32),\n",
    "\"sumOfLogs\": ij.op().stats().sumOfLogs(sinusoid32),\n",
    "\"sumOfSquares\": ij.op().stats().sumOfSquares(sinusoid32),\n",
    "\"variance\": ij.op().stats().variance(sinusoid32)]"
   ]
  }
 ],
 "metadata": {
  "kernelspec": {
   "display_name": "SciJava",
   "language": "groovy",
   "name": "scijava"
  },
  "language_info": {
   "codemirror_mode": "groovy",
   "file_extension": "",
   "mimetype": "",
   "name": "scijava",
   "nbconverter_exporter": "",
   "pygments_lexer": "groovy",
   "version": "1.0"
  }
 },
 "nbformat": 4,
 "nbformat_minor": 2
}
