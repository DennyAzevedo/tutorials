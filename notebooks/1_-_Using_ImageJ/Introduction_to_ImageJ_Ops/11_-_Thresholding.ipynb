{
 "cells": [
  {
   "cell_type": "markdown",
   "metadata": {},
   "source": [
    "# Thresholding"
   ]
  },
  {
   "cell_type": "markdown",
   "metadata": {},
   "source": [
    "Get ImageJ ready and prepare image for procesing "
   ]
  },
  {
   "cell_type": "code",
   "execution_count": 1,
   "metadata": {},
   "outputs": [
    {
     "data": {
      "image/png": "[encoded data removed]"
     },
     "execution_count": 1,
     "metadata": {},
     "output_type": "execute_result"
    }
   ],
   "source": [
    "#@ImageJ ij\n",
    "import net.imglib2.FinalInterval\n",
    "import net.imglib2.interpolation.randomaccess.NLinearInterpolatorFactory\n",
    "\n",
    "clown = ij.io().open(\"http://imagej.net/images/clown.png\")\n",
    "\n",
    "// crop image\n",
    "scaleFactors = [0.5, 0.5, 1] // Reduce X and Y to 50%; leave C dimension alone.\n",
    "interpolationStrategy = new NLinearInterpolatorFactory()\n",
    "\n",
    "// crop to only one channel left\n",
    "image = ij.op().run(\"scaleView\", clown, scaleFactors, interpolationStrategy)\n",
    "w = image.dimension(0); h = image.dimension(1)\n",
    "slice = FinalInterval.createMinSize(0, 0, 0, w, h, 1)\n",
    "threshImage = ij.op().run(\"crop\", image, slice, true)"
   ]
  },
  {
   "cell_type": "markdown",
   "metadata": {},
   "source": [
    "Ops has all the same global thresholding methods as ImageJ 1.x, as well as some local thresholding methods."
   ]
  },
  {
   "cell_type": "code",
   "execution_count": 2,
   "metadata": {},
   "outputs": [
    {
     "data": {
      "text/html": [
       "<style>table.converted {color: #333; font-family: Helvetica, Arial, sans-serif; border-collapse: collapse; border-spacing: 0;}table.converted td, table.converted th {border: 1px solid #C9C7C7;}table.converted th, table.converted td.rowLabel {background: #626262; color: #FFFFFF; font-weight: bold; text-align: left;}table.converted td {text-align: left;}table.converted tr:nth-child(even) {background: #F3F3F3;}table.converted tr:nth-child(odd) {background: #FFFFFF;}table.converted tbody tr:hover {background: #BDF4B5;}table.converted td.rowLabel, table.converted th.rowLabel {display: none;}</style><table class=\"converted\"><tbody><tr><td>apply</td></tr><tr><td>huang</td></tr><tr><td>ij1</td></tr><tr><td>intermodes</td></tr><tr><td>isoData</td></tr><tr><td>li</td></tr><tr><td>localBernsenThreshold</td></tr><tr><td>localContrastThreshold</td></tr><tr><td>localMeanThreshold</td></tr><tr><td>localMedianThreshold</td></tr><tr><td>localMidGreyThreshold</td></tr><tr><td>localNiblackThreshold</td></tr><tr><td>localPhansalkarThreshold</td></tr><tr><td>localSauvolaThreshold</td></tr><tr><td>maxEntropy</td></tr><tr><td>maxLikelihood</td></tr><tr><td>mean</td></tr><tr><td>minError</td></tr><tr><td>minimum</td></tr><tr><td>moments</td></tr><tr><td>otsu</td></tr><tr><td>percentile</td></tr><tr><td>renyiEntropy</td></tr><tr><td>rosin</td></tr><tr><td>shanbhag</td></tr><tr><td>triangle</td></tr><tr><td>yen</td></tr></tbody></table>"
      ]
     },
     "execution_count": 2,
     "metadata": {},
     "output_type": "execute_result"
    }
   ],
   "source": [
    "ij.op().ops().findAll{op ->\n",
    "  op.startsWith(\"threshold.\")\n",
    "}.collect{op -> op[10..-1]}"
   ]
  },
  {
   "cell_type": "markdown",
   "metadata": {},
   "source": [
    "Let's check out the global thresholding algorithms:"
   ]
  },
  {
   "cell_type": "code",
   "execution_count": null,
   "metadata": {},
   "outputs": [],
   "source": [
    "\n",
    "\n",
    "tHuang = ij.op().threshold().huang(threshImage)\n",
    "tIJ1 = ij.op().threshold().ij1(threshImage) // ImageJ 1.x calls this \"Default\"\n",
    "tIntermodes = ij.op().threshold().intermodes(threshImage)\n",
    "tIsoData = ij.op().threshold().isoData(threshImage)\n",
    "tLi = ij.op().threshold().li(threshImage)\n",
    "tMaxEntropy = ij.op().threshold().maxEntropy(threshImage)\n",
    "tMaxLikelihood = ij.op().threshold().maxLikelihood(threshImage)\n",
    "tMean = ij.op().threshold().mean(threshImage)\n",
    "tMinError = ij.op().threshold().minError(threshImage)\n",
    "tMinimum = ij.op().threshold().minimum(threshImage)\n",
    "tMoments = ij.op().threshold().moments(threshImage)\n",
    "tOtsu = ij.op().threshold().otsu(threshImage)\n",
    "tPercentile = ij.op().threshold().percentile(threshImage)\n",
    "tRenyiEntropy = ij.op().threshold().renyiEntropy(threshImage)\n",
    "tRosin = ij.op().threshold().rosin(threshImage)\n",
    "tShanbhag = ij.op().threshold().shanbhag(threshImage)\n",
    "tTriangle = ij.op().threshold().triangle(threshImage)\n",
    "tYen = ij.op().threshold().yen(threshImage)\n",
    "\n",
    "[\n",
    "    [[\"huang\":tHuang, \"ij1\":tIJ1, \"intermodes\":tIntermodes, \"isodata\":tIsoData, \"li\":tLi, \"max entropy\":tMaxEntropy]],\n",
    "    [[\"max likelihood\":tMaxLikelihood, \"mean\":tMean, \"min error\":tMinError, \"minimum\":tMinimum, \"moments\":tMoments, \"otsu\":tOtsu]],\n",
    "    [[\"percentile\":tPercentile, \"renyi entropy\":tRenyiEntropy, \"rosin\":tRosin, \"shanbhag\":tShanbhag, \"triangle\":tTriangle, \"yen\":tYen]]\n",
    "]"
   ]
  },
  {
   "cell_type": "markdown",
   "metadata": {},
   "source": [
    "Let's try some local thresholding. This is a bit more complex, because local thresholding algorithms typically need a neighborhood, and often some other secondary parameters. We will take the Bernsen algorithm for a spin:"
   ]
  },
  {
   "cell_type": "code",
   "execution_count": null,
   "metadata": {},
   "outputs": [],
   "source": [
    "ij.op().help(\"threshold.localBernsenThreshold\")"
   ]
  },
  {
   "cell_type": "code",
   "execution_count": null,
   "metadata": {},
   "outputs": [],
   "source": [
    "import net.imglib2.algorithm.neighborhood.HyperSphereShape\n",
    "\n",
    "// Secondary parameter values. These are wild guesses.\n",
    "contrastThreshold = 10\n",
    "halfMaxValue = 10\n",
    "\n",
    "// Let's try with a variety of neighborhood radii and compare side-by-side.\n",
    "import net.imglib2.type.logic.BitType\n",
    "radii = [1, 3, 5, 8, 12, 15]\n",
    "bernsenImages = [:]\n",
    "for (radius in radii) {\n",
    "  binaryImage = ij.op().run(\"create.img\", threshImage, new BitType())\n",
    "  ij.op().threshold().localBernsenThreshold(binaryImage, threshImage, new HyperSphereShape(radius),\n",
    "                                            contrastThreshold, halfMaxValue)\n",
    "  bernsenImages.put(\"radius \" + radius, binaryImage)\n",
    "}\n",
    "[bernsenImages]"
   ]
  },
  {
   "cell_type": "markdown",
   "metadata": {},
   "source": [
    "Nice illustration of how much better local thresholding can be, eh? The limited scope when thresholding each pixel can go a long way toward correcting for issues like uneven illumination."
   ]
  }
 ],
 "metadata": {
  "kernelspec": {
   "display_name": "SciJava",
   "language": "groovy",
   "name": "scijava"
  },
  "language_info": {
   "codemirror_mode": "groovy",
   "file_extension": "",
   "mimetype": "",
   "name": "scijava",
   "nbconverter_exporter": "",
   "pygments_lexer": "groovy",
   "version": "1.0"
  }
 },
 "nbformat": 4,
 "nbformat_minor": 2
}
