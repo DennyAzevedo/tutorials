{
 "cells": [
  {
   "cell_type": "markdown",
   "metadata": {},
   "source": [
    "# Mixed World: Using ImageJ 1.x\n",
    "Familiar with [ImageJ 1.x](https://imagej.net/ImageJ1)? Want to mix and match? Here's how."
   ]
  },
  {
   "cell_type": "markdown",
   "metadata": {},
   "source": [
    "## Enabling ImageJ 1.x"
   ]
  },
  {
   "cell_type": "markdown",
   "metadata": {},
   "source": [
    "In order to make use of [ImageJ 1.x](https://imagej.net/ImageJ1) functionality, we need to ensure the [ImageJ Legacy](https://imagej.net/ImageJ_Legacy) component is present on the runtime classpath."
   ]
  },
  {
   "cell_type": "code",
   "execution_count": null,
   "metadata": {},
   "outputs": [],
   "source": [
    "// Behind a firewall? Configure your proxy settings here.\n",
    "//System.setProperty(\"http.proxyHost\",\"myproxy.domain\")\n",
    "//System.setProperty(\"http.proxyPort\",\"8080\")\n",
    "\n",
    "//////////////////////////////////////////////////////////////\n",
    "// Load ImageJ. This may take some minutes the first time   //\n",
    "// while ImageJ is installed into ~/.groovy/grapes locally. //\n",
    "//////////////////////////////////////////////////////////////\n",
    "@GrabResolver(name='imagej', root='http://maven.imagej.net/content/groups/public/')\n",
    "@Grab('net.imagej:imagej:2.0.0-rc-58')\n",
    "/////////////////////////////////////////////////////////////////////////////////\n",
    "// Enable support for legacy ImageJ 1.x functions, too.                        //\n",
    "// Version number must correspond to what is listed in the Bill of Materials:  //\n",
    "// https://github.com/scijava/pom-scijava/blob/pom-scijava-13.2.1/pom.xml#L234 //\n",
    "/////////////////////////////////////////////////////////////////////////////////\n",
    "@Grab('net.imagej:imagej-legacy:0.23.4')\n",
    "import net.imagej.ImageJ\n",
    "ij = new ImageJ()\n",
    "println(\"ImageJ is ready to go.\")"
   ]
  },
  {
   "cell_type": "markdown",
   "metadata": {},
   "source": [
    "The above procedure patches ImageJ 1.x so that it can run [headless](https://imagej.net/Headless). Indeed, we can verify that this notebook runs headless:"
   ]
  },
  {
   "cell_type": "code",
   "execution_count": null,
   "metadata": {},
   "outputs": [],
   "source": [
    "println(\"Running headless? \" + System.getProperty(\"java.awt.headless\"))\n",
    "println(\"Does ImageJ agree? \" + ij.ui().isHeadless())"
   ]
  },
  {
   "cell_type": "markdown",
   "metadata": {},
   "source": [
    "## Calling ImageJ 1.x directly"
   ]
  },
  {
   "cell_type": "markdown",
   "metadata": {},
   "source": [
    "Now that ImageJ1 is patched, we can call the ImageJ1 API directly as desired:"
   ]
  },
  {
   "cell_type": "code",
   "execution_count": null,
   "metadata": {},
   "outputs": [],
   "source": [
    "import ij.IJ\n",
    "blobsIJ1 = IJ.openImage(\"http://imagej.net/images/blobs.gif\")"
   ]
  },
  {
   "cell_type": "markdown",
   "metadata": {},
   "source": [
    "## Using the legacy service"
   ]
  },
  {
   "cell_type": "markdown",
   "metadata": {},
   "source": [
    "The ImageJ Legacy component includes a handy `LegacyService` which provides operations bridging the gap between ImageJ 1.x and ImageJ2:"
   ]
  },
  {
   "cell_type": "code",
   "execution_count": null,
   "metadata": {},
   "outputs": [],
   "source": [
    "// Grab a handle on the legacy service.\n",
    "import net.imagej.legacy.LegacyService\n",
    "legacy = ij.get(LegacyService.class)"
   ]
  },
  {
   "cell_type": "markdown",
   "metadata": {},
   "source": [
    "For example, we can convert an ImageJ2 `Dataset` to an ImageJ1 `ImagePlus`:"
   ]
  },
  {
   "cell_type": "code",
   "execution_count": null,
   "metadata": {},
   "outputs": [],
   "source": [
    "// Open an IJ2 Dataset.\n",
    "clown = ij.io().open(\"http://imagej.net/images/clown.png\")\n",
    "\n",
    "// Convert it to an IJ1 ImagePlus.\n",
    "clownIJ2 = ij.display().createDisplay(clown)\n",
    "clownIJ1 = legacy.getImageMap().registerDisplay(clownIJ2)"
   ]
  },
  {
   "cell_type": "markdown",
   "metadata": {},
   "source": [
    "And ImageJ1 `ImagePlus` objects can be converted to ImageJ2 `ImageDisplay` and/or `Dataset`:"
   ]
  },
  {
   "cell_type": "code",
   "execution_count": null,
   "metadata": {},
   "outputs": [],
   "source": [
    "// Convert IJ1 blobs image to an IJ2 image.\n",
    "blobsIJ2 = legacy.getImageMap().registerLegacyImage(blobsIJ1)\n",
    "blobsIJ2.get(0).getData()"
   ]
  }
 ],
 "metadata": {
  "kernelspec": {
   "display_name": "Scijava",
   "language": "groovy",
   "name": "scijava"
  },
  "language_info": {
   "codemirror_mode": "groovy",
   "file_extension": "",
   "mimetype": "",
   "name": "scijava",
   "nbconverter_exporter": "",
   "pygments_lexer": "groovy",
   "version": "1.0"
  }
 },
 "nbformat": 4,
 "nbformat_minor": 2
}
