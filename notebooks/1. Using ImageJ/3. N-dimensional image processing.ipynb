{
 "cells": [
  {
   "cell_type": "markdown",
   "metadata": {},
   "source": [
    "# N-dimensional image processing\n",
    "This tutorial covers:\n",
    "* How to access and manipulate image sample values directly using [ImgLib2](https://imagej.net/ImgLib2)'s primary image structures.\n",
    "* How to perform image processing operations such as convolution, deconvolution and Fourier transforms.\n",
    "* How to work with non-rectangular regions of interest (ROIs) and do computational geometry.\n",
    "* How to compute image features and use them with machine learning algorithms."
   ]
  },
  {
   "cell_type": "code",
   "execution_count": null,
   "metadata": {},
   "outputs": [],
   "source": [
    "// Behind a firewall? Configure your proxy settings here.\n",
    "//System.setProperty(\"http.proxyHost\",\"myproxy.domain\")\n",
    "//System.setProperty(\"http.proxyPort\",\"8080\")\n",
    "\n",
    "//////////////////////////////////////////////////////////////\n",
    "// Load ImageJ. This may take some minutes the first time   //\n",
    "// while ImageJ is installed into ~/.groovy/grapes locally. //\n",
    "//////////////////////////////////////////////////////////////\n",
    "@GrabResolver(name='imagej', root='http://maven.imagej.net/content/groups/public/')\n",
    "@Grab('net.imagej:imagej:2.0.0-rc-58')\n",
    "import net.imagej.ImageJ\n",
    "ij = new ImageJ()\n",
    "println(\"ImageJ is ready to go.\")"
   ]
  },
  {
   "cell_type": "markdown",
   "metadata": {},
   "source": [
    "## Image samples"
   ]
  },
  {
   "cell_type": "markdown",
   "metadata": {},
   "source": [
    "Images in ImageJ are backed by data structures from the [ImgLib2](https://imagej.net/ImgLib2) library. There are several important interfaces, but the two most crucial to understand initially are `IterableInterval` and `RandomAccessibleInterval`.\n",
    "\n",
    "As you can infer from their names, both of them are `Interval`s, which means finite, discrete point samplings in\n",
    "$\\mathbb{Z}^{n}$\n",
    "bounded in each dimension. For example, a `uint8` image with dimensions $1024 \\times 768$ is an interval in $\\mathbb{Z}^{2}$ bounded in X (the first dimension) by $[0, 1023]$ and bounded in Y (the second dimension) by $[0, 767]$, with each integer coordinate inside the interval possessing some value $v \\in \\mathbb{Z} : 0 \\leq v \\leq 255$.\n",
    "\n",
    "* An `IterableInterval` is an image which can be _[iterated](https://en.wikipedia.org/wiki/Iteration#Computing)_ in some order. That is, you can loop over its samples, although the _iteration order_ may vary depending on the type of image—that is, you cannot rely on a particular sample order _a priori_. The good news is that an `IterableInterval` _does_ know its dimensional position at each iteration. An `IterableInterval` is essentially a [stream](https://en.wikipedia.org/wiki/Stream_(computing)).\n",
    "\n",
    "* A `RandomAccessibleInterval` is an image which can be _inspected_ at will at arbitrary positions within the interval. In other words, it provides _[random access](https://en.wikipedia.org/wiki/Random_access)_ to the image samples.\n",
    "\n",
    "If you are familiar with the `java.io` package of the Java standard library, `IterableInterval` is to `java.io.InputStream` as `RandomAccessibleInterval` is to `java.io.RandomAccessFile`.\n",
    "\n",
    "Let's dive into the API for each of these types of images!"
   ]
  },
  {
   "cell_type": "markdown",
   "metadata": {},
   "source": [
    "### Iterating images"
   ]
  },
  {
   "cell_type": "markdown",
   "metadata": {},
   "source": [
    "Here is a demonstration of image iteration:"
   ]
  },
  {
   "cell_type": "code",
   "execution_count": null,
   "metadata": {},
   "outputs": [],
   "source": [
    "import net.imglib2.IterableInterval\n",
    "\n",
    "// Create a tiny image.\n",
    "image = ij.op().run(\"create.img\", [5, 3])\n",
    "println(\"The image is a \" + image.getClass().getName())\n",
    "println(\"image instanceof IterableInterval? \" + (image instanceof IterableInterval))\n",
    "println(\"Each sample is a \" + image.firstElement().getClass().getName())\n",
    "\n",
    "// Populate it with a diagonal gradient.\n",
    "ij.op().image().equation(image, \"p[0]+p[1]\")\n",
    "\n",
    "// Iterate over the image samples!\n",
    "print(\"Sample values =\")\n",
    "for (v in image)\n",
    "  print(\" \" + v)\n",
    "println()"
   ]
  },
  {
   "cell_type": "markdown",
   "metadata": {},
   "source": [
    "The actual type of the created image object is `ArrayImg`, which is an _image container_ backed by one big array—in this case, a `double[]` because the samples are of type `DoubleType`.\n",
    "\n",
    "More generally: an `Img` is an object which is both an `IterableInterval` and a `RandomAccessibleInterval`. Other kinds of image containers include `PlanarImg` (one array per 2D slice) and `CellImg` (one array per N-dimensional block).\n",
    "\n",
    "You might be wondering: what if I need to know the dimensional position during iteration? The solution is to use a _cursor_:"
   ]
  },
  {
   "cell_type": "code",
   "execution_count": null,
   "metadata": {},
   "outputs": [],
   "source": [
    "print(\"Samples by position:\")\n",
    "c = image.localizingCursor()\n",
    "while (c.hasNext()) {\n",
    "  v = c.next()\n",
    "  xPos = c.getLongPosition(0)\n",
    "  yPos = c.getLongPosition(1)\n",
    "  if (xPos == 0) println()\n",
    "  print(\"\\t(\" + xPos + \", \" + yPos + \") = \" + v)\n",
    "}"
   ]
  },
  {
   "cell_type": "markdown",
   "metadata": {},
   "source": [
    "Each cursor is a pointer into the image somewhere, which knows its position. It is possible to run multiple cursors over an image simultaneously.\n",
    "\n",
    "Note that for performance, we use a _localizing cursor_ above by calling `localizingCursor()`, because we knew we would query the position every time. If we were going to query the position only rarely, `cursor()` would be better—a vanilla cursor still knows its position, but does less bookkeeping and hence is faster to iterate in cases where you don't query very often."
   ]
  },
  {
   "cell_type": "markdown",
   "metadata": {},
   "source": [
    "#### Iteration orders"
   ]
  },
  {
   "cell_type": "markdown",
   "metadata": {},
   "source": [
    "From the positions above, we see that the iteration order here happens to be nice and organized, with X moving fastest, followed by Y. This so-called _flat iteration order_ is what you get with `ArrayImg`, but may differ with other image containers. Here is an example of how a _cell image_ with $2 \\times 2 \\times 2$ blocks differs from an _array image_ of the same size:"
   ]
  },
  {
   "cell_type": "code",
   "execution_count": null,
   "metadata": {},
   "outputs": [],
   "source": [
    "// Create an array image and a cell (2x2x2) image.\n",
    "import net.imglib2.img.array.ArrayImgs\n",
    "import net.imglib2.img.cell.CellImgFactory\n",
    "long[] dims = [4, 2, 2]\n",
    "arrayImg = ArrayImgs.unsignedBytes(dims)\n",
    "cellImg = new CellImgFactory(2).create(dims, arrayImg.firstElement())\n",
    "\n",
    "def printPositions(ii, width) {\n",
    "  c = ii.localizingCursor()\n",
    "  col = 0\n",
    "  while (c.hasNext()) {\n",
    "    v = c.next()\n",
    "    xPos = c.getLongPosition(0)\n",
    "    yPos = c.getLongPosition(1)\n",
    "    zPos = c.getLongPosition(2)\n",
    "    print(\"\\t(\" + xPos + \", \" + yPos + \", \" + zPos + \")\")\n",
    "    if (++col == width) { col = 0;  println() }\n",
    "  }\n",
    "  println()\n",
    "}\n",
    "\n",
    "println(\"Array image iteration order =\")\n",
    "printPositions(arrayImg, 4)\n",
    "\n",
    "println(\"Cell image iteration order =\")\n",
    "printPositions(cellImg, 4)"
   ]
  },
  {
   "cell_type": "markdown",
   "metadata": {},
   "source": []
  },
  {
   "cell_type": "markdown",
   "metadata": {},
   "source": [
    "### Accessing image samples directly"
   ]
  },
  {
   "cell_type": "markdown",
   "metadata": {},
   "source": [
    "TODO `RandomAccessibleInterval`"
   ]
  },
  {
   "cell_type": "markdown",
   "metadata": {},
   "source": [
    "## Convolution, deconvolution and Fourier transforms"
   ]
  },
  {
   "cell_type": "markdown",
   "metadata": {},
   "source": [
    "### Convolution"
   ]
  },
  {
   "cell_type": "markdown",
   "metadata": {},
   "source": [
    "TODO"
   ]
  },
  {
   "cell_type": "markdown",
   "metadata": {},
   "source": [
    "###  Deconvolution"
   ]
  },
  {
   "cell_type": "markdown",
   "metadata": {},
   "source": [
    "### Fourier transforms"
   ]
  },
  {
   "cell_type": "markdown",
   "metadata": {},
   "source": [
    "## Regions of interest (ROIs)"
   ]
  },
  {
   "cell_type": "markdown",
   "metadata": {},
   "source": [
    "### Computational geometry"
   ]
  },
  {
   "cell_type": "markdown",
   "metadata": {},
   "source": [
    "## Machine learning with images"
   ]
  },
  {
   "cell_type": "markdown",
   "metadata": {},
   "source": [
    "### Image features"
   ]
  }
 ],
 "metadata": {
  "kernelspec": {
   "display_name": "Scijava",
   "language": "groovy",
   "name": "scijava"
  },
  "language_info": {
   "codemirror_mode": "groovy",
   "file_extension": "",
   "mimetype": "",
   "name": "scijava",
   "nbconverter_exporter": "",
   "pygments_lexer": "groovy",
   "version": "1.0"
  }
 },
 "nbformat": 4,
 "nbformat_minor": 2
}
